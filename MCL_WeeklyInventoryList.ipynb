{
 "cells": [
  {
   "cell_type": "markdown",
   "id": "0f68e287-d0fb-46b7-9ee6-431a3f48ac29",
   "metadata": {
    "tags": []
   },
   "source": [
    "## Weekly Inventory List\n",
    "\n",
    "This script generates a formatted Excel file for doing weekly inventory checks in the MCL (currently Sunday afternoons)\n",
    "\n",
    "NOTE that the API only provides data for items that are IN STOCK -- i.e. anything with \"Checked Out\" status is NOT included\n",
    "\n",
    "NOTE that Weekly Inventory Files are stored on my computer at\n",
    "/Users/krisjoseph/Library/Group Containers/UBF8T346G9.OneDriveSyncClientSuite/York University.noindex/York University/LIB-Media Creation Lab - Metrics and Tracking/Weekly Inventory/"
   ]
  },
  {
   "cell_type": "code",
   "execution_count": 1,
   "id": "29fe8fcd-b8c8-47d2-85e5-d331ee13f60c",
   "metadata": {},
   "outputs": [],
   "source": [
    "import requests, json, datetime\n",
    "from datetime import *\n",
    "import pandas as pd\n",
    "\n",
    "# Get today's date\n",
    "datadate = datetime.today().strftime('%Y-%m-%d')\n",
    "filepath=\"/Users/krisjoseph/Library/Group Containers/UBF8T346G9.OneDriveSyncClientSuite/York University.noindex/York University/LIB-Media Creation Lab - Metrics and Tracking/Weekly Inventory/\""
   ]
  },
  {
   "cell_type": "markdown",
   "id": "1a0fa883-1bb8-4901-a3e9-f64ed6c48a01",
   "metadata": {},
   "source": [
    "# Get an API token for Springshare\n"
   ]
  },
  {
   "cell_type": "code",
   "execution_count": 2,
   "id": "a2ebf1d8-ce79-4a5c-b16e-4da295dc8049",
   "metadata": {},
   "outputs": [],
   "source": [
    "## These values are specific to the Scott MCL instance of LibCal's Spaces and Equipment modules. \n",
    "## FYI, these IDs can be found in the LibCal admin web interface (you'll have to generate a clientSecret in the API module though)\n",
    "locationID = 2632                                 # This is the system's location ID for the Scott MCL, which can be seen in the web-based admin for Libcal\n",
    "clientID = 193                                    # Libapps client ID for the yorku account\n",
    "clientSecret = 'b7ca8732e0786a851d971dc50d99f107' # Access password, generated using the admin interface for libcal (API module)\n",
    "\n",
    "# URLs and data structures for API calls are all listed in the admin pages for the Libapps API module\n",
    "url = 'https://yorku.libcal.com/1.1/oauth/token'\n",
    "myRequestData = {'client_id': clientID,\n",
    "        'client_secret': clientSecret,\n",
    "        'grant_type': 'client_credentials'}\n",
    "\n",
    "# send the request\n",
    "call = requests.post(url, data = myRequestData)\n",
    "\n",
    "# API authorization is returned in a JSON object, and we need to grab/store our access token, which\n",
    "# is used to validate API calls for getting/setting data\n",
    "authorizationData = call.json()\n",
    "accessToken = authorizationData['access_token']"
   ]
  },
  {
   "cell_type": "markdown",
   "id": "136af181-eab4-467f-a946-1eeae15faad0",
   "metadata": {
    "tags": []
   },
   "source": [
    "# Build and send query"
   ]
  },
  {
   "cell_type": "code",
   "execution_count": 3,
   "id": "3f09a7fb-03a9-43a3-9112-ea3eefca229e",
   "metadata": {
    "tags": []
   },
   "outputs": [],
   "source": [
    "\n",
    "#  API CALL https://yorku.libcal.com/1.1/equipment/items/2632  where 2632 is locationID\n",
    "assetListURL = 'https://yorku.libcal.com/1.1/equipment/items/' + str(locationID)\n",
    "pageIndex=0\n",
    "isComplete = False\n",
    "assetsPartial=[]\n",
    "assetsComplete=[]\n",
    "\n",
    "# NOTE for the following: the MAXIMUM record limit for the LibCal API is 100, so we need logic to check if there are still-more items\n",
    "# to find after we run a query -- otherwise the inventory list gets cut off at 100 items\n",
    "\n",
    "headers = {'Authorization':'Bearer '+accessToken}\n",
    "\n",
    "while isComplete == False:\n",
    "\n",
    "    assetData = {'pageSize': 100,\n",
    "                 'visibility': 'admin_only',\n",
    "                 'pageIndex': pageIndex}\n",
    "    \n",
    "    response = requests.get(assetListURL, headers=headers, params=assetData)\n",
    "    assetsPartial = response.json()\n",
    "    assetsComplete.extend(assetsPartial)\n",
    "    if (len(assetsPartial)) < 100:\n",
    "        isComplete = True\n",
    "    else:\n",
    "        pageIndex += 1\n",
    "    \n",
    "    \n",
    "\n"
   ]
  },
  {
   "cell_type": "code",
   "execution_count": 4,
   "id": "9abbaadd-daf0-4031-87e3-e4ad653b0744",
   "metadata": {},
   "outputs": [],
   "source": [
    "# Put data into a Pandas dataframe\n",
    "inventoryList = pd.DataFrame.from_dict(assetsComplete, orient='columns')\n",
    "\n",
    "inventoryList.drop(['termsAndConditions', 'description', 'image', 'instructions', 'value','replacement_cost', \n",
    "                    'formid', 'groupId', 'groupTermsAndConditions', 'locationTermsAndConditions',\n",
    "                   'groupName', 'model'], axis=1)\n",
    "\n",
    "# remove HTML tags from Damage Notes\n",
    "inventoryList.damage_notes = inventoryList.damage_notes.replace(r'<[^<>]*>', '', regex=True)\n",
    "inventoryList.damage_notes = inventoryList.damage_notes.replace(r'[\\r\\n|\\r|\\n|\\t]', ' ', regex=True)\n",
    "\n",
    "# Add column for DSA Notes\n",
    "inventoryList[\"DSA_Notes\"] = \"\"\n"
   ]
  },
  {
   "cell_type": "code",
   "execution_count": 5,
   "id": "7d57c340-ce81-4d60-a0f0-099e3388c57a",
   "metadata": {},
   "outputs": [],
   "source": [
    "# write output to Excel\n",
    "writer = pd.ExcelWriter(filepath+datadate+\" Loanable Inventory.xlsx\", engine='xlsxwriter') \n",
    "#writer = pd.ExcelWriter(datadate+\" Loanable Inventory.xlsx\", engine='xlsxwriter') \n",
    "\n",
    "inventoryList.to_excel(writer, sheet_name=datadate, columns=['name','barcode','asset_number','serial_number','DSA_Notes','damage_notes'], \n",
    "                    index=False, freeze_panes=[1,2])\n",
    "\n",
    "\n",
    "# worksheet is an instance of Excel sheet named after the inventory date - used for inserting the table\n",
    "worksheet = writer.sheets[datadate]\n",
    "# workbook is an instance of the whole book - used i.e. for cell format assignment \n",
    "workbook = writer.book\n",
    "\n",
    "header_cell_format = workbook.add_format()\n",
    "header_cell_format.set_align('center')\n",
    "header_cell_format.set_align('vcenter')\n",
    "\n",
    "# create list of dicts for header names \n",
    "#  (columns property accepts {'header': value} as header name)\n",
    "col_names = [{'header': \"Item Name\"},\n",
    "             {'header': \"Barcode Number\"},\n",
    "             {'header': \"Asset#\"},\n",
    "             {'header': \"Serial#\"},\n",
    "             {'header': \"Add Notes Here for Any Issues Found\"},\n",
    "             {'header': \"Current Notes on Damage\"}\n",
    "            ]\n",
    "\n",
    "worksheet.add_table(0, 0, inventoryList.shape[0], len(col_names), {'columns': col_names, 'style':'Table Style Medium 2'})\n",
    "\n",
    "# skip the loop completly if AutoFit for header is not needed\n",
    "for i, col in enumerate(col_names):\n",
    "    # apply header_cell_format to cell on [row:0, column:i] and write text value from col_names in\n",
    "    worksheet.write(0, i, col['header'], header_cell_format)\n",
    "\n",
    "worksheet.autofit()\n",
    "writer.close()\n"
   ]
  },
  {
   "cell_type": "code",
   "execution_count": null,
   "id": "9a9b6da4-7398-4b63-af7b-f0660a004a71",
   "metadata": {},
   "outputs": [],
   "source": []
  },
  {
   "cell_type": "code",
   "execution_count": null,
   "id": "ffbb025d-7c83-4356-99a8-ed31fc144f90",
   "metadata": {},
   "outputs": [],
   "source": []
  },
  {
   "cell_type": "code",
   "execution_count": null,
   "id": "3429ce73-f85b-4055-9332-1a4e1bf9fcfc",
   "metadata": {},
   "outputs": [],
   "source": []
  }
 ],
 "metadata": {
  "kernelspec": {
   "display_name": "Python 3 (ipykernel)",
   "language": "python",
   "name": "python3"
  },
  "language_info": {
   "codemirror_mode": {
    "name": "ipython",
    "version": 3
   },
   "file_extension": ".py",
   "mimetype": "text/x-python",
   "name": "python",
   "nbconvert_exporter": "python",
   "pygments_lexer": "ipython3",
   "version": "3.11.5"
  }
 },
 "nbformat": 4,
 "nbformat_minor": 5
}
